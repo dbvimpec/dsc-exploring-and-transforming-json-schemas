{
  "cells": [
    {
      "cell_type": "markdown",
      "metadata": {
        "id": "MVnfaOCz5heE"
      },
      "source": [
        "# Exploring and Transforming JSON Schemas"
      ]
    },
    {
      "cell_type": "markdown",
      "metadata": {
        "id": "qVuCeUZ85heG"
      },
      "source": [
        "## Introduction\n",
        "\n",
        "In this lesson, you'll formalize your knowledge for how to explore a JSON file whose structure and schema is unknown to you. This often happens in practice when you are handed a file or stumble upon one with little documentation."
      ]
    },
    {
      "cell_type": "markdown",
      "metadata": {
        "id": "NoLCblsa5heG"
      },
      "source": [
        "## Objectives\n",
        "You will be able to:\n",
        "\n",
        "* Use the JSON module to load and parse JSON documents\n",
        "* Explore and extract data using unknown JSON schemas\n",
        "* Convert JSON to a pandas dataframe\n"
      ]
    },
    {
      "cell_type": "code",
      "source": [
        "! git clone https://github.com/dbvimpec/dsc-exploring-and-transforming-json-schemas"
      ],
      "metadata": {
        "colab": {
          "base_uri": "https://localhost:8080/"
        },
        "id": "YMZEGjKc5rGi",
        "outputId": "c29589e6-512b-4659-dded-640285ce73fc"
      },
      "execution_count": 1,
      "outputs": [
        {
          "output_type": "stream",
          "name": "stdout",
          "text": [
            "Cloning into 'dsc-exploring-and-transforming-json-schemas'...\n",
            "remote: Enumerating objects: 114, done.\u001b[K\n",
            "remote: Counting objects: 100% (49/49), done.\u001b[K\n",
            "remote: Compressing objects: 100% (33/33), done.\u001b[K\n",
            "remote: Total 114 (delta 22), reused 28 (delta 8), pack-reused 65 (from 1)\u001b[K\n",
            "Receiving objects: 100% (114/114), 88.08 KiB | 721.00 KiB/s, done.\n",
            "Resolving deltas: 100% (52/52), done.\n"
          ]
        }
      ]
    },
    {
      "cell_type": "markdown",
      "metadata": {
        "id": "x7S07HRQ5heH"
      },
      "source": [
        "## Loading the JSON file\n",
        "\n",
        "As before, you'll begin by importing the `json` package, opening a file with python's built-in function, and then loading that data in."
      ]
    },
    {
      "cell_type": "code",
      "execution_count": 2,
      "metadata": {
        "id": "5HcVQLgx5heH"
      },
      "outputs": [],
      "source": [
        "import json\n",
        "with open('dsc-exploring-and-transforming-json-schemas/output.json') as f:\n",
        "    data = json.load(f)"
      ]
    },
    {
      "cell_type": "markdown",
      "metadata": {
        "id": "66prGQSf5heI"
      },
      "source": [
        "## Exploring JSON Schemas  \n",
        "\n",
        "JSON files have a nested structure. The most granular level of raw data will be individual numbers (float/int) and strings. These, in turn, will be stored in the equivalent of Python lists and dictionaries. Because these can be combined, you'll start exploring by checking the type of our root object and start mapping out the hierarchy of the JSON file."
      ]
    },
    {
      "cell_type": "code",
      "execution_count": 3,
      "metadata": {
        "colab": {
          "base_uri": "https://localhost:8080/"
        },
        "id": "lJMnWJSQ5heI",
        "outputId": "3e65ec45-8f54-445d-919d-be91c562ab91"
      },
      "outputs": [
        {
          "output_type": "execute_result",
          "data": {
            "text/plain": [
              "dict"
            ]
          },
          "metadata": {},
          "execution_count": 3
        }
      ],
      "source": [
        "type(data)"
      ]
    },
    {
      "cell_type": "markdown",
      "metadata": {
        "id": "xTkac8cV5heJ"
      },
      "source": [
        "As you can see, in this case, the first level of the hierarchy is a dictionary. Let's explore what keys are within this:"
      ]
    },
    {
      "cell_type": "code",
      "execution_count": 4,
      "metadata": {
        "colab": {
          "base_uri": "https://localhost:8080/"
        },
        "id": "t7dsWTUJ5heK",
        "outputId": "81416953-02f9-4b01-d9d7-e131a162aea0"
      },
      "outputs": [
        {
          "output_type": "execute_result",
          "data": {
            "text/plain": [
              "dict_keys(['albums'])"
            ]
          },
          "metadata": {},
          "execution_count": 4
        }
      ],
      "source": [
        "data.keys()"
      ]
    },
    {
      "cell_type": "markdown",
      "metadata": {
        "id": "lPq90h7J5heK"
      },
      "source": [
        "In this case, there is only a single key, `'albums'`, so can continue exploring linearly without branching out.\n",
        "\n",
        "Once again, start by checking the type of this nested data structure."
      ]
    },
    {
      "cell_type": "code",
      "execution_count": 5,
      "metadata": {
        "colab": {
          "base_uri": "https://localhost:8080/"
        },
        "id": "3WMtw-hY5heK",
        "outputId": "abb9ebc1-0acd-4da4-d918-b595814688c6"
      },
      "outputs": [
        {
          "output_type": "execute_result",
          "data": {
            "text/plain": [
              "dict"
            ]
          },
          "metadata": {},
          "execution_count": 5
        }
      ],
      "source": [
        "type(data['albums'])"
      ]
    },
    {
      "cell_type": "markdown",
      "metadata": {
        "id": "MjRulnU85heL"
      },
      "source": [
        "Another dictionary. So thus far, you have a dictionary within a dictionary. Once again, investigate what's within this dictionary."
      ]
    },
    {
      "cell_type": "code",
      "execution_count": 6,
      "metadata": {
        "colab": {
          "base_uri": "https://localhost:8080/"
        },
        "id": "sHelm5qm5heL",
        "outputId": "f7802546-c778-4ae1-93b8-5665f39133b1"
      },
      "outputs": [
        {
          "output_type": "execute_result",
          "data": {
            "text/plain": [
              "dict_keys(['href', 'items', 'limit', 'next', 'offset', 'previous', 'total'])"
            ]
          },
          "metadata": {},
          "execution_count": 6
        }
      ],
      "source": [
        "data['albums'].keys()"
      ]
    },
    {
      "cell_type": "markdown",
      "metadata": {
        "id": "loak-5675heL"
      },
      "source": [
        "At this point, things are starting to look something like this:\n",
        "<img src=\"https://github.com/dbvimpec/dsc-exploring-and-transforming-json-schemas/blob/master/images/json_diagram1.JPG?raw=1\" width=550>"
      ]
    },
    {
      "cell_type": "markdown",
      "metadata": {
        "id": "w46tU84X5heL"
      },
      "source": [
        "At this point, if you were to continue checking individual data types, you have a lot to go through. To simplify this, you can use a for loop:"
      ]
    },
    {
      "cell_type": "code",
      "execution_count": 7,
      "metadata": {
        "colab": {
          "base_uri": "https://localhost:8080/"
        },
        "id": "gO9qHX4b5heL",
        "outputId": "ac027f56-34ea-4978-daf9-d5bd6bbd3c27"
      },
      "outputs": [
        {
          "output_type": "stream",
          "name": "stdout",
          "text": [
            "href <class 'str'>\n",
            "items <class 'list'>\n",
            "limit <class 'int'>\n",
            "next <class 'str'>\n",
            "offset <class 'int'>\n",
            "previous <class 'NoneType'>\n",
            "total <class 'int'>\n"
          ]
        }
      ],
      "source": [
        "for key in data['albums'].keys():\n",
        "    print(key, type(data['albums'][key]))"
      ]
    },
    {
      "cell_type": "markdown",
      "metadata": {
        "id": "JsPWrE025heM"
      },
      "source": [
        "Adding this to our diagram we now have something like this:\n",
        "<img src=\"https://github.com/dbvimpec/dsc-exploring-and-transforming-json-schemas/blob/master/images/json_diagram2.JPG?raw=1\" width=550>"
      ]
    },
    {
      "cell_type": "markdown",
      "metadata": {
        "id": "uAoN11GE5heM"
      },
      "source": [
        "Normally, you may not draw out the full diagram as done here, but it's a useful picture to have in mind, and in complex schemas, can be useful to map out. At this point, you also probably have a good idea of the general structure of the JSON file. However, there is still the list of items, which we could investigate further:"
      ]
    },
    {
      "cell_type": "code",
      "execution_count": 8,
      "metadata": {
        "colab": {
          "base_uri": "https://localhost:8080/"
        },
        "id": "e5Fo2eyz5heM",
        "outputId": "d1c891f3-8674-4905-8160-685859c90d73"
      },
      "outputs": [
        {
          "output_type": "execute_result",
          "data": {
            "text/plain": [
              "list"
            ]
          },
          "metadata": {},
          "execution_count": 8
        }
      ],
      "source": [
        "type(data['albums']['items'])"
      ]
    },
    {
      "cell_type": "code",
      "execution_count": 9,
      "metadata": {
        "colab": {
          "base_uri": "https://localhost:8080/"
        },
        "id": "I903gIj-5heM",
        "outputId": "2235abf8-58ec-4782-a1cb-9f08c7e7894c"
      },
      "outputs": [
        {
          "output_type": "execute_result",
          "data": {
            "text/plain": [
              "2"
            ]
          },
          "metadata": {},
          "execution_count": 9
        }
      ],
      "source": [
        "len(data['albums']['items'])"
      ]
    },
    {
      "cell_type": "code",
      "execution_count": 10,
      "metadata": {
        "colab": {
          "base_uri": "https://localhost:8080/"
        },
        "id": "6UzsaAdC5heM",
        "outputId": "82856252-8917-44d9-c60f-4d973a162efe"
      },
      "outputs": [
        {
          "output_type": "execute_result",
          "data": {
            "text/plain": [
              "dict"
            ]
          },
          "metadata": {},
          "execution_count": 10
        }
      ],
      "source": [
        "type(data['albums']['items'][0])"
      ]
    },
    {
      "cell_type": "code",
      "execution_count": 11,
      "metadata": {
        "colab": {
          "base_uri": "https://localhost:8080/"
        },
        "id": "X8l0swK45heN",
        "outputId": "ae6d4a6f-b723-409a-8001-1dabe92f7c9d"
      },
      "outputs": [
        {
          "output_type": "execute_result",
          "data": {
            "text/plain": [
              "dict_keys(['album_type', 'artists', 'available_markets', 'external_urls', 'href', 'id', 'images', 'name', 'type', 'uri'])"
            ]
          },
          "metadata": {},
          "execution_count": 11
        }
      ],
      "source": [
        "data['albums']['items'][0].keys()"
      ]
    },
    {
      "cell_type": "markdown",
      "metadata": {
        "id": "iHq5y9Rj5heN"
      },
      "source": [
        "## Converting JSON to Alternative Data Formats\n",
        "As you can see, the nested structure continues on: our list of items is only 2 long, but each item is a dictionary with a large number of key-value pairs. To add context, this is actually the data that you're probably after from this file: its that data providing details about what albums were recently released. The entirety of the JSON file itself is an example response from the Spotify API. So while the larger JSON provides us with many details about the response itself, our primary interest may simply be the list of dictionaries within data -> albums -> items. Preview this and see if you can transform it into our usual pandas DataFrame."
      ]
    },
    {
      "cell_type": "code",
      "execution_count": 12,
      "metadata": {
        "id": "EmO2y3Q-5heN"
      },
      "outputs": [],
      "source": [
        "import pandas as pd"
      ]
    },
    {
      "cell_type": "markdown",
      "metadata": {
        "id": "ZJI9j81T5heO"
      },
      "source": [
        "On first attempt, you might be tempted to pass the whole object to Pandas. Try and think about what you would like the resulting dataframe to look like based on the schema we are mapping out. What would the column names be? What would the rows represent?"
      ]
    },
    {
      "cell_type": "code",
      "execution_count": 13,
      "metadata": {
        "colab": {
          "base_uri": "https://localhost:8080/",
          "height": 202
        },
        "id": "AzcKdsPJ5heO",
        "outputId": "d32e0b34-3f3a-49e2-c68a-f174e983a5d8"
      },
      "outputs": [
        {
          "output_type": "execute_result",
          "data": {
            "text/plain": [
              "  album_type                                            artists  \\\n",
              "0     single  [{'external_urls': {'spotify': 'https://open.s...   \n",
              "1     single  [{'external_urls': {'spotify': 'https://open.s...   \n",
              "\n",
              "                                   available_markets  \\\n",
              "0  [AD, AR, AT, AU, BE, BG, BO, BR, CA, CH, CL, C...   \n",
              "1  [AD, AR, AT, AU, BE, BG, BO, BR, CH, CL, CO, C...   \n",
              "\n",
              "                                       external_urls  \\\n",
              "0  {'spotify': 'https://open.spotify.com/album/5Z...   \n",
              "1  {'spotify': 'https://open.spotify.com/album/0g...   \n",
              "\n",
              "                                                href                      id  \\\n",
              "0  https://api.spotify.com/v1/albums/5ZX4m5aVSmWQ...  5ZX4m5aVSmWQ5iHAPQpT71   \n",
              "1  https://api.spotify.com/v1/albums/0geTzdk2Inlq...  0geTzdk2InlqIoB16fW9Nd   \n",
              "\n",
              "                                              images      name   type  \\\n",
              "0  [{'height': 640, 'url': 'https://i.scdn.co/ima...   Runnin'  album   \n",
              "1  [{'height': 640, 'url': 'https://i.scdn.co/ima...  Sneakin’  album   \n",
              "\n",
              "                                    uri  \n",
              "0  spotify:album:5ZX4m5aVSmWQ5iHAPQpT71  \n",
              "1  spotify:album:0geTzdk2InlqIoB16fW9Nd  "
            ],
            "text/html": [
              "\n",
              "  <div id=\"df-1891b601-2a17-45f7-ad84-69345874eb10\" class=\"colab-df-container\">\n",
              "    <div>\n",
              "<style scoped>\n",
              "    .dataframe tbody tr th:only-of-type {\n",
              "        vertical-align: middle;\n",
              "    }\n",
              "\n",
              "    .dataframe tbody tr th {\n",
              "        vertical-align: top;\n",
              "    }\n",
              "\n",
              "    .dataframe thead th {\n",
              "        text-align: right;\n",
              "    }\n",
              "</style>\n",
              "<table border=\"1\" class=\"dataframe\">\n",
              "  <thead>\n",
              "    <tr style=\"text-align: right;\">\n",
              "      <th></th>\n",
              "      <th>album_type</th>\n",
              "      <th>artists</th>\n",
              "      <th>available_markets</th>\n",
              "      <th>external_urls</th>\n",
              "      <th>href</th>\n",
              "      <th>id</th>\n",
              "      <th>images</th>\n",
              "      <th>name</th>\n",
              "      <th>type</th>\n",
              "      <th>uri</th>\n",
              "    </tr>\n",
              "  </thead>\n",
              "  <tbody>\n",
              "    <tr>\n",
              "      <th>0</th>\n",
              "      <td>single</td>\n",
              "      <td>[{'external_urls': {'spotify': 'https://open.s...</td>\n",
              "      <td>[AD, AR, AT, AU, BE, BG, BO, BR, CA, CH, CL, C...</td>\n",
              "      <td>{'spotify': 'https://open.spotify.com/album/5Z...</td>\n",
              "      <td>https://api.spotify.com/v1/albums/5ZX4m5aVSmWQ...</td>\n",
              "      <td>5ZX4m5aVSmWQ5iHAPQpT71</td>\n",
              "      <td>[{'height': 640, 'url': 'https://i.scdn.co/ima...</td>\n",
              "      <td>Runnin'</td>\n",
              "      <td>album</td>\n",
              "      <td>spotify:album:5ZX4m5aVSmWQ5iHAPQpT71</td>\n",
              "    </tr>\n",
              "    <tr>\n",
              "      <th>1</th>\n",
              "      <td>single</td>\n",
              "      <td>[{'external_urls': {'spotify': 'https://open.s...</td>\n",
              "      <td>[AD, AR, AT, AU, BE, BG, BO, BR, CH, CL, CO, C...</td>\n",
              "      <td>{'spotify': 'https://open.spotify.com/album/0g...</td>\n",
              "      <td>https://api.spotify.com/v1/albums/0geTzdk2Inlq...</td>\n",
              "      <td>0geTzdk2InlqIoB16fW9Nd</td>\n",
              "      <td>[{'height': 640, 'url': 'https://i.scdn.co/ima...</td>\n",
              "      <td>Sneakin’</td>\n",
              "      <td>album</td>\n",
              "      <td>spotify:album:0geTzdk2InlqIoB16fW9Nd</td>\n",
              "    </tr>\n",
              "  </tbody>\n",
              "</table>\n",
              "</div>\n",
              "    <div class=\"colab-df-buttons\">\n",
              "\n",
              "  <div class=\"colab-df-container\">\n",
              "    <button class=\"colab-df-convert\" onclick=\"convertToInteractive('df-1891b601-2a17-45f7-ad84-69345874eb10')\"\n",
              "            title=\"Convert this dataframe to an interactive table.\"\n",
              "            style=\"display:none;\">\n",
              "\n",
              "  <svg xmlns=\"http://www.w3.org/2000/svg\" height=\"24px\" viewBox=\"0 -960 960 960\">\n",
              "    <path d=\"M120-120v-720h720v720H120Zm60-500h600v-160H180v160Zm220 220h160v-160H400v160Zm0 220h160v-160H400v160ZM180-400h160v-160H180v160Zm440 0h160v-160H620v160ZM180-180h160v-160H180v160Zm440 0h160v-160H620v160Z\"/>\n",
              "  </svg>\n",
              "    </button>\n",
              "\n",
              "  <style>\n",
              "    .colab-df-container {\n",
              "      display:flex;\n",
              "      gap: 12px;\n",
              "    }\n",
              "\n",
              "    .colab-df-convert {\n",
              "      background-color: #E8F0FE;\n",
              "      border: none;\n",
              "      border-radius: 50%;\n",
              "      cursor: pointer;\n",
              "      display: none;\n",
              "      fill: #1967D2;\n",
              "      height: 32px;\n",
              "      padding: 0 0 0 0;\n",
              "      width: 32px;\n",
              "    }\n",
              "\n",
              "    .colab-df-convert:hover {\n",
              "      background-color: #E2EBFA;\n",
              "      box-shadow: 0px 1px 2px rgba(60, 64, 67, 0.3), 0px 1px 3px 1px rgba(60, 64, 67, 0.15);\n",
              "      fill: #174EA6;\n",
              "    }\n",
              "\n",
              "    .colab-df-buttons div {\n",
              "      margin-bottom: 4px;\n",
              "    }\n",
              "\n",
              "    [theme=dark] .colab-df-convert {\n",
              "      background-color: #3B4455;\n",
              "      fill: #D2E3FC;\n",
              "    }\n",
              "\n",
              "    [theme=dark] .colab-df-convert:hover {\n",
              "      background-color: #434B5C;\n",
              "      box-shadow: 0px 1px 3px 1px rgba(0, 0, 0, 0.15);\n",
              "      filter: drop-shadow(0px 1px 2px rgba(0, 0, 0, 0.3));\n",
              "      fill: #FFFFFF;\n",
              "    }\n",
              "  </style>\n",
              "\n",
              "    <script>\n",
              "      const buttonEl =\n",
              "        document.querySelector('#df-1891b601-2a17-45f7-ad84-69345874eb10 button.colab-df-convert');\n",
              "      buttonEl.style.display =\n",
              "        google.colab.kernel.accessAllowed ? 'block' : 'none';\n",
              "\n",
              "      async function convertToInteractive(key) {\n",
              "        const element = document.querySelector('#df-1891b601-2a17-45f7-ad84-69345874eb10');\n",
              "        const dataTable =\n",
              "          await google.colab.kernel.invokeFunction('convertToInteractive',\n",
              "                                                    [key], {});\n",
              "        if (!dataTable) return;\n",
              "\n",
              "        const docLinkHtml = 'Like what you see? Visit the ' +\n",
              "          '<a target=\"_blank\" href=https://colab.research.google.com/notebooks/data_table.ipynb>data table notebook</a>'\n",
              "          + ' to learn more about interactive tables.';\n",
              "        element.innerHTML = '';\n",
              "        dataTable['output_type'] = 'display_data';\n",
              "        await google.colab.output.renderOutput(dataTable, element);\n",
              "        const docLink = document.createElement('div');\n",
              "        docLink.innerHTML = docLinkHtml;\n",
              "        element.appendChild(docLink);\n",
              "      }\n",
              "    </script>\n",
              "  </div>\n",
              "\n",
              "\n",
              "<div id=\"df-058f2dfb-5495-4bbb-b7c1-867622986597\">\n",
              "  <button class=\"colab-df-quickchart\" onclick=\"quickchart('df-058f2dfb-5495-4bbb-b7c1-867622986597')\"\n",
              "            title=\"Suggest charts\"\n",
              "            style=\"display:none;\">\n",
              "\n",
              "<svg xmlns=\"http://www.w3.org/2000/svg\" height=\"24px\"viewBox=\"0 0 24 24\"\n",
              "     width=\"24px\">\n",
              "    <g>\n",
              "        <path d=\"M19 3H5c-1.1 0-2 .9-2 2v14c0 1.1.9 2 2 2h14c1.1 0 2-.9 2-2V5c0-1.1-.9-2-2-2zM9 17H7v-7h2v7zm4 0h-2V7h2v10zm4 0h-2v-4h2v4z\"/>\n",
              "    </g>\n",
              "</svg>\n",
              "  </button>\n",
              "\n",
              "<style>\n",
              "  .colab-df-quickchart {\n",
              "      --bg-color: #E8F0FE;\n",
              "      --fill-color: #1967D2;\n",
              "      --hover-bg-color: #E2EBFA;\n",
              "      --hover-fill-color: #174EA6;\n",
              "      --disabled-fill-color: #AAA;\n",
              "      --disabled-bg-color: #DDD;\n",
              "  }\n",
              "\n",
              "  [theme=dark] .colab-df-quickchart {\n",
              "      --bg-color: #3B4455;\n",
              "      --fill-color: #D2E3FC;\n",
              "      --hover-bg-color: #434B5C;\n",
              "      --hover-fill-color: #FFFFFF;\n",
              "      --disabled-bg-color: #3B4455;\n",
              "      --disabled-fill-color: #666;\n",
              "  }\n",
              "\n",
              "  .colab-df-quickchart {\n",
              "    background-color: var(--bg-color);\n",
              "    border: none;\n",
              "    border-radius: 50%;\n",
              "    cursor: pointer;\n",
              "    display: none;\n",
              "    fill: var(--fill-color);\n",
              "    height: 32px;\n",
              "    padding: 0;\n",
              "    width: 32px;\n",
              "  }\n",
              "\n",
              "  .colab-df-quickchart:hover {\n",
              "    background-color: var(--hover-bg-color);\n",
              "    box-shadow: 0 1px 2px rgba(60, 64, 67, 0.3), 0 1px 3px 1px rgba(60, 64, 67, 0.15);\n",
              "    fill: var(--button-hover-fill-color);\n",
              "  }\n",
              "\n",
              "  .colab-df-quickchart-complete:disabled,\n",
              "  .colab-df-quickchart-complete:disabled:hover {\n",
              "    background-color: var(--disabled-bg-color);\n",
              "    fill: var(--disabled-fill-color);\n",
              "    box-shadow: none;\n",
              "  }\n",
              "\n",
              "  .colab-df-spinner {\n",
              "    border: 2px solid var(--fill-color);\n",
              "    border-color: transparent;\n",
              "    border-bottom-color: var(--fill-color);\n",
              "    animation:\n",
              "      spin 1s steps(1) infinite;\n",
              "  }\n",
              "\n",
              "  @keyframes spin {\n",
              "    0% {\n",
              "      border-color: transparent;\n",
              "      border-bottom-color: var(--fill-color);\n",
              "      border-left-color: var(--fill-color);\n",
              "    }\n",
              "    20% {\n",
              "      border-color: transparent;\n",
              "      border-left-color: var(--fill-color);\n",
              "      border-top-color: var(--fill-color);\n",
              "    }\n",
              "    30% {\n",
              "      border-color: transparent;\n",
              "      border-left-color: var(--fill-color);\n",
              "      border-top-color: var(--fill-color);\n",
              "      border-right-color: var(--fill-color);\n",
              "    }\n",
              "    40% {\n",
              "      border-color: transparent;\n",
              "      border-right-color: var(--fill-color);\n",
              "      border-top-color: var(--fill-color);\n",
              "    }\n",
              "    60% {\n",
              "      border-color: transparent;\n",
              "      border-right-color: var(--fill-color);\n",
              "    }\n",
              "    80% {\n",
              "      border-color: transparent;\n",
              "      border-right-color: var(--fill-color);\n",
              "      border-bottom-color: var(--fill-color);\n",
              "    }\n",
              "    90% {\n",
              "      border-color: transparent;\n",
              "      border-bottom-color: var(--fill-color);\n",
              "    }\n",
              "  }\n",
              "</style>\n",
              "\n",
              "  <script>\n",
              "    async function quickchart(key) {\n",
              "      const quickchartButtonEl =\n",
              "        document.querySelector('#' + key + ' button');\n",
              "      quickchartButtonEl.disabled = true;  // To prevent multiple clicks.\n",
              "      quickchartButtonEl.classList.add('colab-df-spinner');\n",
              "      try {\n",
              "        const charts = await google.colab.kernel.invokeFunction(\n",
              "            'suggestCharts', [key], {});\n",
              "      } catch (error) {\n",
              "        console.error('Error during call to suggestCharts:', error);\n",
              "      }\n",
              "      quickchartButtonEl.classList.remove('colab-df-spinner');\n",
              "      quickchartButtonEl.classList.add('colab-df-quickchart-complete');\n",
              "    }\n",
              "    (() => {\n",
              "      let quickchartButtonEl =\n",
              "        document.querySelector('#df-058f2dfb-5495-4bbb-b7c1-867622986597 button');\n",
              "      quickchartButtonEl.style.display =\n",
              "        google.colab.kernel.accessAllowed ? 'block' : 'none';\n",
              "    })();\n",
              "  </script>\n",
              "</div>\n",
              "\n",
              "  <div id=\"id_33e7169c-7e59-40c2-8434-cb8cdcf0a444\">\n",
              "    <style>\n",
              "      .colab-df-generate {\n",
              "        background-color: #E8F0FE;\n",
              "        border: none;\n",
              "        border-radius: 50%;\n",
              "        cursor: pointer;\n",
              "        display: none;\n",
              "        fill: #1967D2;\n",
              "        height: 32px;\n",
              "        padding: 0 0 0 0;\n",
              "        width: 32px;\n",
              "      }\n",
              "\n",
              "      .colab-df-generate:hover {\n",
              "        background-color: #E2EBFA;\n",
              "        box-shadow: 0px 1px 2px rgba(60, 64, 67, 0.3), 0px 1px 3px 1px rgba(60, 64, 67, 0.15);\n",
              "        fill: #174EA6;\n",
              "      }\n",
              "\n",
              "      [theme=dark] .colab-df-generate {\n",
              "        background-color: #3B4455;\n",
              "        fill: #D2E3FC;\n",
              "      }\n",
              "\n",
              "      [theme=dark] .colab-df-generate:hover {\n",
              "        background-color: #434B5C;\n",
              "        box-shadow: 0px 1px 3px 1px rgba(0, 0, 0, 0.15);\n",
              "        filter: drop-shadow(0px 1px 2px rgba(0, 0, 0, 0.3));\n",
              "        fill: #FFFFFF;\n",
              "      }\n",
              "    </style>\n",
              "    <button class=\"colab-df-generate\" onclick=\"generateWithVariable('df')\"\n",
              "            title=\"Generate code using this dataframe.\"\n",
              "            style=\"display:none;\">\n",
              "\n",
              "  <svg xmlns=\"http://www.w3.org/2000/svg\" height=\"24px\"viewBox=\"0 0 24 24\"\n",
              "       width=\"24px\">\n",
              "    <path d=\"M7,19H8.4L18.45,9,17,7.55,7,17.6ZM5,21V16.75L18.45,3.32a2,2,0,0,1,2.83,0l1.4,1.43a1.91,1.91,0,0,1,.58,1.4,1.91,1.91,0,0,1-.58,1.4L9.25,21ZM18.45,9,17,7.55Zm-12,3A5.31,5.31,0,0,0,4.9,8.1,5.31,5.31,0,0,0,1,6.5,5.31,5.31,0,0,0,4.9,4.9,5.31,5.31,0,0,0,6.5,1,5.31,5.31,0,0,0,8.1,4.9,5.31,5.31,0,0,0,12,6.5,5.46,5.46,0,0,0,6.5,12Z\"/>\n",
              "  </svg>\n",
              "    </button>\n",
              "    <script>\n",
              "      (() => {\n",
              "      const buttonEl =\n",
              "        document.querySelector('#id_33e7169c-7e59-40c2-8434-cb8cdcf0a444 button.colab-df-generate');\n",
              "      buttonEl.style.display =\n",
              "        google.colab.kernel.accessAllowed ? 'block' : 'none';\n",
              "\n",
              "      buttonEl.onclick = () => {\n",
              "        google.colab.notebook.generateWithVariable('df');\n",
              "      }\n",
              "      })();\n",
              "    </script>\n",
              "  </div>\n",
              "\n",
              "    </div>\n",
              "  </div>\n"
            ],
            "application/vnd.google.colaboratory.intrinsic+json": {
              "type": "dataframe",
              "variable_name": "df",
              "summary": "{\n  \"name\": \"df\",\n  \"rows\": 2,\n  \"fields\": [\n    {\n      \"column\": \"album_type\",\n      \"properties\": {\n        \"dtype\": \"string\",\n        \"num_unique_values\": 1,\n        \"samples\": [\n          \"single\"\n        ],\n        \"semantic_type\": \"\",\n        \"description\": \"\"\n      }\n    },\n    {\n      \"column\": \"artists\",\n      \"properties\": {\n        \"dtype\": \"object\",\n        \"semantic_type\": \"\",\n        \"description\": \"\"\n      }\n    },\n    {\n      \"column\": \"available_markets\",\n      \"properties\": {\n        \"dtype\": \"object\",\n        \"semantic_type\": \"\",\n        \"description\": \"\"\n      }\n    },\n    {\n      \"column\": \"external_urls\",\n      \"properties\": {\n        \"dtype\": \"object\",\n        \"semantic_type\": \"\",\n        \"description\": \"\"\n      }\n    },\n    {\n      \"column\": \"href\",\n      \"properties\": {\n        \"dtype\": \"string\",\n        \"num_unique_values\": 2,\n        \"samples\": [\n          \"https://api.spotify.com/v1/albums/0geTzdk2InlqIoB16fW9Nd\"\n        ],\n        \"semantic_type\": \"\",\n        \"description\": \"\"\n      }\n    },\n    {\n      \"column\": \"id\",\n      \"properties\": {\n        \"dtype\": \"string\",\n        \"num_unique_values\": 2,\n        \"samples\": [\n          \"0geTzdk2InlqIoB16fW9Nd\"\n        ],\n        \"semantic_type\": \"\",\n        \"description\": \"\"\n      }\n    },\n    {\n      \"column\": \"images\",\n      \"properties\": {\n        \"dtype\": \"object\",\n        \"semantic_type\": \"\",\n        \"description\": \"\"\n      }\n    },\n    {\n      \"column\": \"name\",\n      \"properties\": {\n        \"dtype\": \"string\",\n        \"num_unique_values\": 2,\n        \"samples\": [\n          \"Sneakin\\u2019\"\n        ],\n        \"semantic_type\": \"\",\n        \"description\": \"\"\n      }\n    },\n    {\n      \"column\": \"type\",\n      \"properties\": {\n        \"dtype\": \"string\",\n        \"num_unique_values\": 1,\n        \"samples\": [\n          \"album\"\n        ],\n        \"semantic_type\": \"\",\n        \"description\": \"\"\n      }\n    },\n    {\n      \"column\": \"uri\",\n      \"properties\": {\n        \"dtype\": \"string\",\n        \"num_unique_values\": 2,\n        \"samples\": [\n          \"spotify:album:0geTzdk2InlqIoB16fW9Nd\"\n        ],\n        \"semantic_type\": \"\",\n        \"description\": \"\"\n      }\n    }\n  ]\n}"
            }
          },
          "metadata": {},
          "execution_count": 13
        }
      ],
      "source": [
        "df = pd.DataFrame(data['albums']['items'])\n",
        "df"
      ]
    },
    {
      "cell_type": "markdown",
      "metadata": {
        "id": "Zxm0t9Ri5heO"
      },
      "source": [
        "Pandas DataFrames are mostly useful when we have fairly flat, tabular data. In this case, with a list of only two albums, we don't gain much information by displaying our data this way."
      ]
    },
    {
      "cell_type": "markdown",
      "metadata": {
        "id": "A1axppJQ5heO"
      },
      "source": [
        "## Extracting Data\n",
        "\n",
        "Now that we have some sense of what is in our dataset, we can extract some information that might be useful as part of a larger analysis.\n",
        "\n",
        "### What are the artist names?\n",
        "\n",
        "Although we don't have a schema available, we can see that each album contains a key `'artists'`. Let's explore that further."
      ]
    },
    {
      "cell_type": "code",
      "execution_count": 14,
      "metadata": {
        "colab": {
          "base_uri": "https://localhost:8080/"
        },
        "id": "aPT8u8vl5heO",
        "outputId": "2c1fd4e2-da4a-4bda-da83-0827c8c5fbe8"
      },
      "outputs": [
        {
          "output_type": "execute_result",
          "data": {
            "text/plain": [
              "[{'external_urls': {'spotify': 'https://open.spotify.com/artist/2RdwBSPQiwcmiDo9kixcl8'},\n",
              "  'href': 'https://api.spotify.com/v1/artists/2RdwBSPQiwcmiDo9kixcl8',\n",
              "  'id': '2RdwBSPQiwcmiDo9kixcl8',\n",
              "  'name': 'Pharrell Williams',\n",
              "  'type': 'artist',\n",
              "  'uri': 'spotify:artist:2RdwBSPQiwcmiDo9kixcl8'}]"
            ]
          },
          "metadata": {},
          "execution_count": 14
        }
      ],
      "source": [
        "first_album = data['albums']['items'][0]\n",
        "\n",
        "first_album['artists']"
      ]
    },
    {
      "cell_type": "markdown",
      "metadata": {
        "id": "K4k4PLth5heP"
      },
      "source": [
        "That's a list of dictionaries. To convert it to a list of strings, that would be something like this:"
      ]
    },
    {
      "cell_type": "code",
      "execution_count": 15,
      "metadata": {
        "colab": {
          "base_uri": "https://localhost:8080/"
        },
        "id": "sFUq2CDf5heP",
        "outputId": "8f522cbc-c58f-457b-ddca-900edf17ad7d"
      },
      "outputs": [
        {
          "output_type": "execute_result",
          "data": {
            "text/plain": [
              "['Pharrell Williams']"
            ]
          },
          "metadata": {},
          "execution_count": 15
        }
      ],
      "source": [
        "first_album_artists = [artist['name'] for artist in first_album['artists']]\n",
        "first_album_artists"
      ]
    },
    {
      "cell_type": "markdown",
      "metadata": {
        "id": "dLeVoSQC5heP"
      },
      "source": [
        "If we wanted to do the same for all albums in the dataset, that would be something like this:"
      ]
    },
    {
      "cell_type": "code",
      "execution_count": 16,
      "metadata": {
        "colab": {
          "base_uri": "https://localhost:8080/"
        },
        "id": "u8IcVclM5heQ",
        "outputId": "3073019f-1a83-4bab-b664-03c58afe7dba"
      },
      "outputs": [
        {
          "output_type": "execute_result",
          "data": {
            "text/plain": [
              "[['Pharrell Williams'], ['Drake']]"
            ]
          },
          "metadata": {},
          "execution_count": 16
        }
      ],
      "source": [
        "artists_by_album = [[artist['name'] for artist in album['artists']] for album in data['albums']['items']]\n",
        "artists_by_album"
      ]
    },
    {
      "cell_type": "markdown",
      "metadata": {
        "id": "BT1K3QSZ5heQ"
      },
      "source": [
        "That same logic, without list comprehensions:"
      ]
    },
    {
      "cell_type": "code",
      "execution_count": 17,
      "metadata": {
        "colab": {
          "base_uri": "https://localhost:8080/"
        },
        "id": "Y5kCUb085heQ",
        "outputId": "e1fe98ed-e8e2-4bd7-ba00-30eee5f6cb22"
      },
      "outputs": [
        {
          "output_type": "execute_result",
          "data": {
            "text/plain": [
              "[['Pharrell Williams'], ['Drake']]"
            ]
          },
          "metadata": {},
          "execution_count": 17
        }
      ],
      "source": [
        "# Make an empty list to hold the overall data\n",
        "artists_by_album = []\n",
        "\n",
        "# Loop over the list of dictionaries containing album info\n",
        "for album in data['albums']['items']:\n",
        "\n",
        "    # Make a list to contain the artist names for this album\n",
        "    artist_names = []\n",
        "\n",
        "    # Loop over the list of dictionaries containing artist info\n",
        "    for artist in album['artists']:\n",
        "\n",
        "        # Add the artist name to the list of artist names\n",
        "        artist_names.append(artist['name'])\n",
        "\n",
        "    # Add the list of artists for this album to the overall list\n",
        "    artists_by_album.append(artist_names)\n",
        "\n",
        "artists_by_album"
      ]
    },
    {
      "cell_type": "markdown",
      "metadata": {
        "id": "twc--IYI5heQ"
      },
      "source": [
        "That same logic using the dataframe would be:"
      ]
    },
    {
      "cell_type": "code",
      "execution_count": 18,
      "metadata": {
        "id": "tDBZNPBj5heQ"
      },
      "outputs": [],
      "source": [
        "def extract_artist_names(record):\n",
        "    return [artist['name'] for artist in record]"
      ]
    },
    {
      "cell_type": "code",
      "execution_count": 19,
      "metadata": {
        "colab": {
          "base_uri": "https://localhost:8080/",
          "height": 147
        },
        "id": "I69RTypF5heR",
        "outputId": "1494e6f2-bb53-4b11-f352-ea265c4544e5"
      },
      "outputs": [
        {
          "output_type": "execute_result",
          "data": {
            "text/plain": [
              "0    [Pharrell Williams]\n",
              "1                [Drake]\n",
              "Name: artists, dtype: object"
            ],
            "text/html": [
              "<div>\n",
              "<style scoped>\n",
              "    .dataframe tbody tr th:only-of-type {\n",
              "        vertical-align: middle;\n",
              "    }\n",
              "\n",
              "    .dataframe tbody tr th {\n",
              "        vertical-align: top;\n",
              "    }\n",
              "\n",
              "    .dataframe thead th {\n",
              "        text-align: right;\n",
              "    }\n",
              "</style>\n",
              "<table border=\"1\" class=\"dataframe\">\n",
              "  <thead>\n",
              "    <tr style=\"text-align: right;\">\n",
              "      <th></th>\n",
              "      <th>artists</th>\n",
              "    </tr>\n",
              "  </thead>\n",
              "  <tbody>\n",
              "    <tr>\n",
              "      <th>0</th>\n",
              "      <td>[Pharrell Williams]</td>\n",
              "    </tr>\n",
              "    <tr>\n",
              "      <th>1</th>\n",
              "      <td>[Drake]</td>\n",
              "    </tr>\n",
              "  </tbody>\n",
              "</table>\n",
              "</div><br><label><b>dtype:</b> object</label>"
            ]
          },
          "metadata": {},
          "execution_count": 19
        }
      ],
      "source": [
        "df[\"artists\"].apply(extract_artist_names)"
      ]
    },
    {
      "cell_type": "markdown",
      "metadata": {
        "id": "D1AoBr0D5heR"
      },
      "source": [
        "### How many available markets are there per album?\n",
        "\n",
        "We see that one of the keys each album has is `'available_markets'`. Let's look at it:"
      ]
    },
    {
      "cell_type": "code",
      "execution_count": 20,
      "metadata": {
        "colab": {
          "base_uri": "https://localhost:8080/"
        },
        "id": "ebukOL8M5hec",
        "outputId": "27fe5765-c653-4fa2-a9c3-3ec17f989403"
      },
      "outputs": [
        {
          "output_type": "execute_result",
          "data": {
            "text/plain": [
              "['AD',\n",
              " 'AR',\n",
              " 'AT',\n",
              " 'AU',\n",
              " 'BE',\n",
              " 'BG',\n",
              " 'BO',\n",
              " 'BR',\n",
              " 'CA',\n",
              " 'CH',\n",
              " 'CL',\n",
              " 'CO',\n",
              " 'CR',\n",
              " 'CY',\n",
              " 'CZ',\n",
              " 'DE',\n",
              " 'DK',\n",
              " 'DO',\n",
              " 'EC',\n",
              " 'EE',\n",
              " 'ES',\n",
              " 'FI',\n",
              " 'FR',\n",
              " 'GB',\n",
              " 'GR',\n",
              " 'GT',\n",
              " 'HK',\n",
              " 'HN',\n",
              " 'HU',\n",
              " 'ID',\n",
              " 'IE',\n",
              " 'IS',\n",
              " 'IT',\n",
              " 'JP',\n",
              " 'LI',\n",
              " 'LT',\n",
              " 'LU',\n",
              " 'LV',\n",
              " 'MC',\n",
              " 'MT',\n",
              " 'MX',\n",
              " 'MY',\n",
              " 'NI',\n",
              " 'NL',\n",
              " 'NO',\n",
              " 'NZ',\n",
              " 'PA',\n",
              " 'PE',\n",
              " 'PH',\n",
              " 'PL',\n",
              " 'PT',\n",
              " 'PY',\n",
              " 'SE',\n",
              " 'SG',\n",
              " 'SK',\n",
              " 'SV',\n",
              " 'TR',\n",
              " 'TW',\n",
              " 'US',\n",
              " 'UY']"
            ]
          },
          "metadata": {},
          "execution_count": 20
        }
      ],
      "source": [
        "first_album['available_markets']"
      ]
    },
    {
      "cell_type": "markdown",
      "metadata": {
        "id": "pMST2jPq5hed"
      },
      "source": [
        "It appears we have a list of strings. So all we need to do is to count the length of that list for each album."
      ]
    },
    {
      "cell_type": "code",
      "execution_count": 21,
      "metadata": {
        "colab": {
          "base_uri": "https://localhost:8080/"
        },
        "id": "uoKE-Ff45hed",
        "outputId": "f7d34213-ac96-4747-f43d-ce976cf12130"
      },
      "outputs": [
        {
          "output_type": "execute_result",
          "data": {
            "text/plain": [
              "[60, 57]"
            ]
          },
          "metadata": {},
          "execution_count": 21
        }
      ],
      "source": [
        "available_market_counts = [len(album['available_markets']) for album in data['albums']['items']]\n",
        "available_market_counts"
      ]
    },
    {
      "cell_type": "markdown",
      "metadata": {
        "id": "sUh6JsKK5hed"
      },
      "source": [
        "Again, it would be possible to do this using pandas instead:"
      ]
    },
    {
      "cell_type": "code",
      "execution_count": 22,
      "metadata": {
        "colab": {
          "base_uri": "https://localhost:8080/",
          "height": 147
        },
        "id": "zKvzBXZp5hed",
        "outputId": "20cec4c9-cea7-4699-fe79-5c76348a1cf0"
      },
      "outputs": [
        {
          "output_type": "execute_result",
          "data": {
            "text/plain": [
              "0    60\n",
              "1    57\n",
              "Name: available_markets, dtype: int64"
            ],
            "text/html": [
              "<div>\n",
              "<style scoped>\n",
              "    .dataframe tbody tr th:only-of-type {\n",
              "        vertical-align: middle;\n",
              "    }\n",
              "\n",
              "    .dataframe tbody tr th {\n",
              "        vertical-align: top;\n",
              "    }\n",
              "\n",
              "    .dataframe thead th {\n",
              "        text-align: right;\n",
              "    }\n",
              "</style>\n",
              "<table border=\"1\" class=\"dataframe\">\n",
              "  <thead>\n",
              "    <tr style=\"text-align: right;\">\n",
              "      <th></th>\n",
              "      <th>available_markets</th>\n",
              "    </tr>\n",
              "  </thead>\n",
              "  <tbody>\n",
              "    <tr>\n",
              "      <th>0</th>\n",
              "      <td>60</td>\n",
              "    </tr>\n",
              "    <tr>\n",
              "      <th>1</th>\n",
              "      <td>57</td>\n",
              "    </tr>\n",
              "  </tbody>\n",
              "</table>\n",
              "</div><br><label><b>dtype:</b> int64</label>"
            ]
          },
          "metadata": {},
          "execution_count": 22
        }
      ],
      "source": [
        "df[\"available_markets\"].apply(len)"
      ]
    },
    {
      "cell_type": "markdown",
      "metadata": {
        "id": "90GXVXrU5hee"
      },
      "source": [
        "### What is the medium-sized image associated with each album?\n",
        "\n",
        "We see that the `'images'` key is associated with a list of dictionaries:"
      ]
    },
    {
      "cell_type": "code",
      "execution_count": 23,
      "metadata": {
        "colab": {
          "base_uri": "https://localhost:8080/"
        },
        "id": "fOusYVPF5hee",
        "outputId": "4c37b4bf-3203-4558-bc6b-20103a1dd686"
      },
      "outputs": [
        {
          "output_type": "execute_result",
          "data": {
            "text/plain": [
              "[{'height': 640,\n",
              "  'url': 'https://i.scdn.co/image/e6b635ebe3ef4ba22492f5698a7b5d417f78b88a',\n",
              "  'width': 640},\n",
              " {'height': 300,\n",
              "  'url': 'https://i.scdn.co/image/92ae5b0fe64870c09004dd2e745a4fb1bf7de39d',\n",
              "  'width': 300},\n",
              " {'height': 64,\n",
              "  'url': 'https://i.scdn.co/image/8a7ab6fc2c9f678308ba0f694ecd5718dc6bc930',\n",
              "  'width': 64}]"
            ]
          },
          "metadata": {},
          "execution_count": 23
        }
      ],
      "source": [
        "first_album['images']"
      ]
    },
    {
      "cell_type": "markdown",
      "metadata": {
        "id": "R2Jzxkmm5hee"
      },
      "source": [
        "Let's use IPython to display the image with `'height'` 300 for each album."
      ]
    },
    {
      "cell_type": "code",
      "execution_count": 24,
      "metadata": {
        "colab": {
          "base_uri": "https://localhost:8080/",
          "height": 626
        },
        "id": "fRl_3_W45hee",
        "outputId": "608f003f-effe-4080-9efb-3bbee6daac70"
      },
      "outputs": [
        {
          "output_type": "display_data",
          "data": {
            "text/html": [
              "<img src=\"https://i.scdn.co/image/92ae5b0fe64870c09004dd2e745a4fb1bf7de39d\"/>"
            ],
            "text/plain": [
              "<IPython.core.display.Image object>"
            ]
          },
          "metadata": {}
        },
        {
          "output_type": "display_data",
          "data": {
            "text/html": [
              "<img src=\"https://i.scdn.co/image/dff06a3375f6d9b32ecb081eb9a60bbafecb5731\"/>"
            ],
            "text/plain": [
              "<IPython.core.display.Image object>"
            ]
          },
          "metadata": {}
        }
      ],
      "source": [
        "from IPython.display import Image\n",
        "\n",
        "for album in data['albums']['items']:\n",
        "    for image in album['images']:\n",
        "        if image['height'] == 300:\n",
        "            loaded_image = Image(url=image['url'])\n",
        "            display(loaded_image)"
      ]
    },
    {
      "cell_type": "markdown",
      "metadata": {
        "id": "vJWKvqXu5hee"
      },
      "source": [
        "Once again, the same logic would be possible with pandas:"
      ]
    },
    {
      "cell_type": "code",
      "execution_count": 25,
      "metadata": {
        "id": "NBAq3QQE5hef"
      },
      "outputs": [],
      "source": [
        "def extract_medium_images(record):\n",
        "    images = pd.DataFrame(record)\n",
        "    medium_image = images[images[\"height\"] == 300][\"url\"].values[0]\n",
        "    return medium_image\n",
        "\n",
        "def display_image(record):\n",
        "    loaded_image = Image(url=record)\n",
        "    display(loaded_image)"
      ]
    },
    {
      "cell_type": "code",
      "execution_count": 26,
      "metadata": {
        "colab": {
          "base_uri": "https://localhost:8080/",
          "height": 626
        },
        "id": "zSMQhCEF5hef",
        "outputId": "5e847d0a-9b0a-4727-ee23-f35acb5e8a6e"
      },
      "outputs": [
        {
          "output_type": "display_data",
          "data": {
            "text/html": [
              "<img src=\"https://i.scdn.co/image/92ae5b0fe64870c09004dd2e745a4fb1bf7de39d\"/>"
            ],
            "text/plain": [
              "<IPython.core.display.Image object>"
            ]
          },
          "metadata": {}
        },
        {
          "output_type": "display_data",
          "data": {
            "text/html": [
              "<img src=\"https://i.scdn.co/image/dff06a3375f6d9b32ecb081eb9a60bbafecb5731\"/>"
            ],
            "text/plain": [
              "<IPython.core.display.Image object>"
            ]
          },
          "metadata": {}
        }
      ],
      "source": [
        "df[\"images\"].apply(extract_medium_images).apply(display_image);"
      ]
    },
    {
      "cell_type": "markdown",
      "metadata": {
        "id": "2Iw4dR5u5hef"
      },
      "source": [
        "As you can see, once we have explored the schema somewhat, there are a lot of different things we can extract from this dataset."
      ]
    },
    {
      "cell_type": "markdown",
      "metadata": {
        "id": "nCaKcfp65hef"
      },
      "source": [
        "## Summary\n",
        "\n",
        "JSON files often have a deep, nested structure that can require initial investigation into the schema hierarchy in order to become familiar with how data is stored. Once done, it is important to identify what data you are looking to extract and then develop a strategy to transform it using your standard workflow."
      ]
    }
  ],
  "metadata": {
    "kernelspec": {
      "display_name": "Python 3",
      "language": "python",
      "name": "python3"
    },
    "language_info": {
      "codemirror_mode": {
        "name": "ipython",
        "version": 3
      },
      "file_extension": ".py",
      "mimetype": "text/x-python",
      "name": "python",
      "nbconvert_exporter": "python",
      "pygments_lexer": "ipython3",
      "version": "3.8.5"
    },
    "toc": {
      "base_numbering": 1,
      "nav_menu": {},
      "number_sections": true,
      "sideBar": true,
      "skip_h1_title": false,
      "title_cell": "Table of Contents",
      "title_sidebar": "Contents",
      "toc_cell": false,
      "toc_position": {},
      "toc_section_display": true,
      "toc_window_display": false
    },
    "colab": {
      "provenance": []
    }
  },
  "nbformat": 4,
  "nbformat_minor": 0
}